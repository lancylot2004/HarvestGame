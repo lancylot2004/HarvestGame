{
 "cells": [
  {
   "metadata": {
    "ExecuteTime": {
     "end_time": "2024-09-17T13:15:12.677324Z",
     "start_time": "2024-09-17T13:14:49.747545Z"
    }
   },
   "cell_type": "code",
   "source": [
    "from harvest.game import HarvestGame\n",
    "\n",
    "game = HarvestGame(\n",
    "    map = HarvestGame.parse_map(\n",
    "        [\n",
    "            \"@@@@@@@@@@\",\n",
    "            \"@.OO.OOOO@\",\n",
    "            \"@OOOOOOOO@\",\n",
    "            \"@OOOOOOOO@\",\n",
    "            \"@.OO.OOOO@\",\n",
    "            \"@@@@@@@@@@\",\n",
    "        ],\n",
    "    ),\n",
    "    spawn_points = [(1, 1), (1, 4), (4, 1), (4, 4)],\n",
    "    seed = 42\n",
    ")\n",
    "\n",
    "for i in range(1):\n",
    "    game.add_player(str(i), \"Maximise your own points.\")\n",
    "\n",
    "game.experiment(\"test.txt\", desired_apple_num = 5, limit = 3)\n"
   ],
   "id": "bd5b4ffe91278812",
   "outputs": [
    {
     "name": "stderr",
     "output_type": "stream",
     "text": [
      "/Users/lancylot2004/miniconda3/envs/concordia/lib/python3.12/site-packages/sentence_transformers/cross_encoder/CrossEncoder.py:13: TqdmWarning: IProgress not found. Please update jupyter and ipywidgets. See https://ipywidgets.readthedocs.io/en/stable/user_install.html\n",
      "  from tqdm.autonotebook import tqdm, trange\n",
      "/Users/lancylot2004/miniconda3/envs/concordia/lib/python3.12/site-packages/transformers/tokenization_utils_base.py:1601: FutureWarning: `clean_up_tokenization_spaces` was not set. It will be set to `True` by default. This behavior will be depracted in transformers v4.45, and will be then set to `False` by default. For more details check this issue: https://github.com/huggingface/transformers/issues/31884\n",
      "  warnings.warn(\n",
      "Experimenting...: 100%|██████████| 3/3 [00:01<00:00,  1.71it/s]\n"
     ]
    }
   ],
   "execution_count": 1
  }
 ],
 "metadata": {
  "kernelspec": {
   "display_name": "Python 3",
   "language": "python",
   "name": "python3"
  },
  "language_info": {
   "codemirror_mode": {
    "name": "ipython",
    "version": 2
   },
   "file_extension": ".py",
   "mimetype": "text/x-python",
   "name": "python",
   "nbconvert_exporter": "python",
   "pygments_lexer": "ipython2",
   "version": "2.7.6"
  }
 },
 "nbformat": 4,
 "nbformat_minor": 5
}
